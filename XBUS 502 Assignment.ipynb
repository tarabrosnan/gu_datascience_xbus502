{
 "cells": [
  {
   "cell_type": "code",
   "execution_count": null,
   "metadata": {},
   "outputs": [],
   "source": [
    "import sqlite3"
   ]
  },
  {
   "cell_type": "markdown",
   "metadata": {},
   "source": [
    "Creating \"Assignment\" database and seeting up connection and cursor"
   ]
  },
  {
   "cell_type": "code",
   "execution_count": null,
   "metadata": {},
   "outputs": [],
   "source": [
    "DBPATH = 'assignment.db'\n",
    "conn = sqlite3.connect(DBPATH)\n",
    "cursor = conn.cursor()"
   ]
  },
  {
   "cell_type": "markdown",
   "metadata": {},
   "source": [
    "## Question 3: Heroes"
   ]
  },
  {
   "cell_type": "markdown",
   "metadata": {},
   "source": [
    "Creating Superheroes database"
   ]
  },
  {
   "cell_type": "code",
   "execution_count": null,
   "metadata": {},
   "outputs": [],
   "source": [
    "sql = (\n",
    "    \"CREATE TABLE IF NOT EXISTS Heroes (\"\n",
    "    \"id INTEGER PRIMARY KEY AUTOINCREMENT,\"\n",
    "    \"name VARCHAR(100) NOT NULL,\"\n",
    "    \"gender VARCHAR(100) NULL,\"\n",
    "    \"height VARCHAR(100) NULL,\"\n",
    "    \"weight VARCHAR(100) NULL,\"\n",
    "    \"age INTEGER NOT NULL,\"\n",
    "    \"origin_planet VARCHAR(100) NULL,\"\n",
    "    \"can_fly BOOLEAN DEFAULT(FALSE)\"\n",
    "    \")\"\n",
    ")\n",
    "\n",
    "cursor.execute(sql)\n",
    "conn.commit()"
   ]
  },
  {
   "cell_type": "markdown",
   "metadata": {},
   "source": [
    "#### 3A: a. Write a SQL statement to add Superman to the heroes table and be sure to provide values for all columns."
   ]
  },
  {
   "cell_type": "code",
   "execution_count": null,
   "metadata": {},
   "outputs": [],
   "source": [
    "sql = \"\"\"INSERT INTO Heroes (id, name, gender, height, weight, age, origin_planet, can_fly) \n",
    "VALUES (?,?,?,?,?,?,?,?)\"\"\"\n",
    "cursor.execute(sql, (999, \"Superman\", \"male\", \"6 ft 1 in\", \"180 lbs\", 35, \"Krypton\", True))"
   ]
  },
  {
   "cell_type": "markdown",
   "metadata": {},
   "source": [
    "Check that the intsert for Superman's info worked"
   ]
  },
  {
   "cell_type": "code",
   "execution_count": null,
   "metadata": {},
   "outputs": [],
   "source": [
    "cursor.execute(\"SELECT * FROM Heroes WHERE name=?\", (\"Superman\",))\n",
    "print(cursor.fetchone())"
   ]
  },
  {
   "cell_type": "markdown",
   "metadata": {},
   "source": [
    "#### 3B. Write a SQL statement to update Superman's age to 36."
   ]
  },
  {
   "cell_type": "code",
   "execution_count": null,
   "metadata": {},
   "outputs": [],
   "source": [
    "cursor.execute(\"UPDATE Heroes SET age='36' WHERE name='Superman'\")"
   ]
  },
  {
   "cell_type": "markdown",
   "metadata": {},
   "source": [
    "Check to make sure age updated for Superman entry"
   ]
  },
  {
   "cell_type": "code",
   "execution_count": null,
   "metadata": {},
   "outputs": [],
   "source": [
    "cursor.execute(\"SELECT * FROM Heroes WHERE name=?\", (\"Superman\",))\n",
    "print(cursor.fetchone())"
   ]
  },
  {
   "cell_type": "markdown",
   "metadata": {},
   "source": [
    "#### 3C. Write a SQL statement to remove Superman from the table using his row id."
   ]
  },
  {
   "cell_type": "code",
   "execution_count": null,
   "metadata": {},
   "outputs": [],
   "source": [
    "cursor.execute(\"DELETE FROM Heroes WHERE id=999\")"
   ]
  },
  {
   "cell_type": "markdown",
   "metadata": {},
   "source": [
    "Check to make sure Superman entry was deleted"
   ]
  },
  {
   "cell_type": "code",
   "execution_count": null,
   "metadata": {},
   "outputs": [],
   "source": [
    "cursor.execute(\"SELECT * FROM Heroes WHERE name=?\", (\"Superman\",))\n",
    "print(cursor.fetchone())"
   ]
  },
  {
   "cell_type": "markdown",
   "metadata": {},
   "source": [
    "#### 3D. Write a SQL statement to remove all heroes from Mars."
   ]
  },
  {
   "cell_type": "code",
   "execution_count": null,
   "metadata": {},
   "outputs": [],
   "source": [
    "cursor.execute(\"DELETE FROM Heroes WHERE origin_planet='Mars'\")"
   ]
  },
  {
   "cell_type": "markdown",
   "metadata": {},
   "source": [
    "#### 3E. Write a SQL statement that returns only the name and gender of all heroes."
   ]
  },
  {
   "cell_type": "code",
   "execution_count": null,
   "metadata": {},
   "outputs": [],
   "source": [
    "cursor.execute(\"SELECT name, gender FROM Heroes\")"
   ]
  },
  {
   "cell_type": "markdown",
   "metadata": {},
   "source": [
    "#### 3F. Write a SQL statement that returns all heroes (all fields) sorted by age in descending order."
   ]
  },
  {
   "cell_type": "code",
   "execution_count": null,
   "metadata": {},
   "outputs": [],
   "source": [
    "cursor.execute(\"SELECT * FROM Heroes ORDER BY age DESC\")"
   ]
  },
  {
   "cell_type": "markdown",
   "metadata": {},
   "source": [
    "#### 3G. Write a SQL statement that returns the name of all heroes that cannot fly."
   ]
  },
  {
   "cell_type": "code",
   "execution_count": null,
   "metadata": {},
   "outputs": [],
   "source": [
    "cursor.execute(\"SELECT name FROM Heroes WHERE can_fly IS FALSE\")"
   ]
  },
  {
   "cell_type": "markdown",
   "metadata": {},
   "source": [
    "#### 3H. Write a SQL statement that returns the name of all heroes from Earth or Krypton sorted by planet."
   ]
  },
  {
   "cell_type": "code",
   "execution_count": null,
   "metadata": {},
   "outputs": [],
   "source": [
    "cursor.execute(\"SELECT name FROM Heroes WHERE origin_planet IN('Earth','Krypton') ORDER BY origin_planet\")"
   ]
  },
  {
   "cell_type": "markdown",
   "metadata": {},
   "source": [
    "## Question 4: Joins"
   ]
  },
  {
   "cell_type": "markdown",
   "metadata": {},
   "source": [
    "Creating Employee table"
   ]
  },
  {
   "cell_type": "code",
   "execution_count": null,
   "metadata": {},
   "outputs": [],
   "source": [
    "sql = (\n",
    "    \"CREATE TABLE IF NOT EXISTS Employee (\"\n",
    "    \"id INTEGER PRIMARY KEY AUTOINCREMENT,\"\n",
    "    \"first_name VARCHAR(100) NOT NULL,\"\n",
    "    \"last_name VARCHAR(100) NOT NULL,\"\n",
    "    \"gender VARCHAR(100) NULL,\"\n",
    "    \"salary INTEGER NOT NULL,\"\n",
    "    \"location_id INTEGER NOT NULL,\"\n",
    "    \"department_id INTEGER NOT NULL\"\n",
    "    \")\"\n",
    ")\n",
    "\n",
    "cursor.execute(sql)\n",
    "conn.commit()"
   ]
  },
  {
   "cell_type": "markdown",
   "metadata": {},
   "source": [
    "Creating Department table"
   ]
  },
  {
   "cell_type": "code",
   "execution_count": null,
   "metadata": {},
   "outputs": [],
   "source": [
    "sql = (\n",
    "    \"CREATE TABLE IF NOT EXISTS Department (\"\n",
    "    \"id INTEGER PRIMARY KEY AUTOINCREMENT,\"\n",
    "    \"name varchar(50) NOT NULL\"\n",
    "    \")\"\n",
    ")\n",
    "\n",
    "cursor.execute(sql)\n",
    "conn.commit()"
   ]
  },
  {
   "cell_type": "markdown",
   "metadata": {},
   "source": [
    "Creating Location table"
   ]
  },
  {
   "cell_type": "code",
   "execution_count": null,
   "metadata": {},
   "outputs": [],
   "source": [
    "sql = (\n",
    "    \"CREATE TABLE IF NOT EXISTS Location (\"\n",
    "    \"id INTEGER PRIMARY KEY AUTOINCREMENT,\"\n",
    "    \"city varchar(50) NOT NULL,\"\n",
    "    \"state varchar(50) NOT NULL\"\n",
    "    \")\"\n",
    ")\n",
    "\n",
    "cursor.execute(sql)\n",
    "conn.commit()    "
   ]
  },
  {
   "cell_type": "markdown",
   "metadata": {},
   "source": [
    "#### 4A. List all of the Information Technology employees in the Baltimore location sorted by last name and then first name.  Do not use the 'id' to filter but rather join the employee and location tables and then filter with the where clause using the string 'Baltimore'.\n"
   ]
  },
  {
   "cell_type": "code",
   "execution_count": null,
   "metadata": {},
   "outputs": [],
   "source": [
    "sql = (\"\"\"SELECT * FROM Employee e\n",
    "LEFT JOIN Department d\n",
    "ON e.department_id = d.id\n",
    "LEFT JOIN Location l\n",
    "ON e.location_id = l.id\n",
    "WHERE UPPER(d.name) = 'INFORMATION TECHNOLOGY'\n",
    "AND UPPER(l.city) = 'BALTIMORE'\n",
    "ORDER BY e.last_name, e.first_name\"\"\")\n",
    "\n",
    "cursor.execute(sql)\n",
    "print(cursor.fetchone())"
   ]
  },
  {
   "cell_type": "markdown",
   "metadata": {},
   "source": [
    "#### 4B. Count all of the employees in the Arlington location.  Do not use the 'id' to filter but rather join the employee and location tables and then filter with the where or having clause using the string 'Arlington'."
   ]
  },
  {
   "cell_type": "code",
   "execution_count": null,
   "metadata": {},
   "outputs": [],
   "source": [
    "sql = (\"\"\"SELECT COUNT(*) FROM Employee e\n",
    "LEFT JOIN Location l\n",
    "ON e.location_id = l.id\n",
    "WHERE UPPER(l.city) = 'ARLINGTON'\"\"\")\n",
    "\n",
    "cursor.execute(sql)\n",
    "print(cursor.fetchone())"
   ]
  },
  {
   "cell_type": "markdown",
   "metadata": {},
   "source": [
    "#### 4C. Join the employee and location tables and compute the average salary for all employees by location using a GROUP BY clause.  "
   ]
  },
  {
   "cell_type": "code",
   "execution_count": null,
   "metadata": {},
   "outputs": [],
   "source": [
    "sql = (\"\"\"SELECT l.city, AVG(e.salary) FROM Employee e\n",
    "LEFT JOIN Location l\n",
    "ON e.location_id = l.id\n",
    "GROUP BY l.id\"\"\")\n",
    "\n",
    "cursor.execute(sql)\n",
    "print(cursor.fetchone())"
   ]
  },
  {
   "cell_type": "markdown",
   "metadata": {},
   "source": [
    "#### 4D. Join all three tables together and compute the average salary for sales employees in VA using a GROUP BY clause."
   ]
  },
  {
   "cell_type": "code",
   "execution_count": null,
   "metadata": {},
   "outputs": [],
   "source": [
    "sql = (\"\"\"SELECT AVG(e.salary) FROM Employee e\n",
    "LEFT JOIN Department d\n",
    "ON e.department_id = d.id\n",
    "LEFT JOIN Location l\n",
    "ON e.location_id = l.id\n",
    "WHERE UPPER(d.name) = 'SALES'\n",
    "AND UPPER(l.state) = 'VA'\n",
    "GROUP BY d.name, l.state\"\"\")\n",
    "\n",
    "cursor.execute(sql)\n",
    "print(cursor.fetchone())"
   ]
  }
 ],
 "metadata": {
  "kernelspec": {
   "display_name": "Python 3",
   "language": "python",
   "name": "python3"
  },
  "language_info": {
   "codemirror_mode": {
    "name": "ipython",
    "version": 3
   },
   "file_extension": ".py",
   "mimetype": "text/x-python",
   "name": "python",
   "nbconvert_exporter": "python",
   "pygments_lexer": "ipython3",
   "version": "3.6.8"
  }
 },
 "nbformat": 4,
 "nbformat_minor": 2
}
